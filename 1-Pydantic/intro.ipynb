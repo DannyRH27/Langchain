{
 "cells": [
  {
   "cell_type": "code",
   "execution_count": 14,
   "id": "85aee1fa",
   "metadata": {},
   "outputs": [],
   "source": [
    "from pydantic import BaseModel"
   ]
  },
  {
   "cell_type": "code",
   "execution_count": 19,
   "id": "8c307415",
   "metadata": {},
   "outputs": [
    {
     "name": "stdout",
     "output_type": "stream",
     "text": [
      "name='Danny' age=32 city=None\n",
      "customer_id=1 name='Danny' age=32 address=Address(street='123 Main St', city='Wonderland', zip_code='12345')\n"
     ]
    }
   ],
   "source": [
    "class Person(BaseModel):\n",
    "    name: str\n",
    "    age: int\n",
    "    city: str | None = None\n",
    "\n",
    "person=Person(name=\"Danny\", age=32, city=None)\n",
    "print(person)\n",
    "\n",
    "class Address(BaseModel):\n",
    "    street: str\n",
    "    city: str\n",
    "    zip_code: str\n",
    "\n",
    "class Customer(BaseModel):\n",
    "    customer_id: int\n",
    "    name: str\n",
    "    age: int\n",
    "    address: Address #nested model\n",
    "\n",
    "customer = Customer(\n",
    "    customer_id=1,\n",
    "    name=\"Danny\",\n",
    "    age=32,\n",
    "    address=Address(\n",
    "        street=\"123 Main St\",\n",
    "        city=\"Wonderland\",\n",
    "        zip_code=\"12345\"\n",
    "    )\n",
    ")\n",
    "print(customer)\n",
    "\n",
    "\n"
   ]
  },
  {
   "cell_type": "code",
   "execution_count": 20,
   "id": "c3fcb320",
   "metadata": {},
   "outputs": [
    {
     "name": "stdout",
     "output_type": "stream",
     "text": [
      "Person2(name='Danny', age=32, city=12)\n"
     ]
    }
   ],
   "source": [
    "from dataclasses import dataclass\n",
    "\n",
    "@dataclass\n",
    "class Person2():\n",
    "    name: str\n",
    "    age: int\n",
    "    city: str\n",
    "\n",
    "person=Person2(name=\"Danny\", age=32, city=12)\n",
    "print(person)\n"
   ]
  },
  {
   "cell_type": "code",
   "execution_count": 25,
   "id": "e1e64d30",
   "metadata": {},
   "outputs": [],
   "source": [
    "from pydantic import Field\n",
    "\n",
    "class Item(BaseModel):\n",
    "    name:str=Field(min_length=2, max_length=50)\n",
    "    price:float=Field(gt=0, le=1000)\n",
    "    quantity:int=Field(ge=0)\n",
    "\n",
    "item = Item(name=\"Laptop\", price=1000, quantity=10)"
   ]
  },
  {
   "cell_type": "code",
   "execution_count": null,
   "id": "2ef09034",
   "metadata": {},
   "outputs": [],
   "source": []
  }
 ],
 "metadata": {
  "kernelspec": {
   "display_name": "venv (3.11.6)",
   "language": "python",
   "name": "python3"
  },
  "language_info": {
   "codemirror_mode": {
    "name": "ipython",
    "version": 3
   },
   "file_extension": ".py",
   "mimetype": "text/x-python",
   "name": "python",
   "nbconvert_exporter": "python",
   "pygments_lexer": "ipython3",
   "version": "3.11.6"
  }
 },
 "nbformat": 4,
 "nbformat_minor": 5
}
